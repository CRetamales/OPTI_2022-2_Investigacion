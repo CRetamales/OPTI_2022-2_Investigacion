{
 "cells": [
  {
   "cell_type": "markdown",
   "metadata": {},
   "source": [
    "## __TRABAJO DE INVESTIGACIÓN__ \n",
    "***\n",
    "### __Métodos de Optimización 2022-2__\n",
    "#### __Profesor__: Cristián Sepulveda S.\n",
    "#### __Ayudante__: Tomás Lopez A.\n",
    "#### __Integrantes__:  Estefanía Álvarez M. - Bastián Loyola J. - Carlos Retamales A.\n",
    "\n",
    "***"
   ]
  },
  {
   "attachments": {},
   "cell_type": "markdown",
   "metadata": {},
   "source": [
    "A lo largo de este trabajo se busca resolver el problema de optimización del problema del viajante, el cual consiste en encontrar la ruta más corta que recorre todas las ciudades de un conjunto de ciudades, pasando una única vez por cada una de ellas. \n",
    "Pero bajo el contexto de puntos de reciclaje, donde se busca encontrar la ruta más corta que recorre todos los puntos de reciclaje de un conjunto de puntos de reciclaje, pasando una única vez por cada uno de ellos, teniendo en cuanta que este recorrido lo hacen camiones de reciclaje con una capacidad máxima de carga.\n",
    "\n",
    "***"
   ]
  },
  {
   "attachments": {},
   "cell_type": "markdown",
   "metadata": {},
   "source": [
    "### __Variables__\n",
    "\n",
    "* $n$: Número de puntos de reciclaje\n",
    "* $m$: Número de camiones\n",
    "* $dm$: Número de drones\n",
    "* $k$: Número de vuelos de cada drone\n",
    "* $W_i$: Capacidad máxima de carga de cada camión\n",
    "* $w_i$: Peso del punto de reciclaje $i$ en kilogramos\n",
    "* $i$: Índice de los puntos de reciclaje\n",
    "* $j$: Índice de los puntos de reciclaje\n",
    "* $x_{ij}$: Variable binaria que indica si el camión pasa por el punto de reciclaje $i$ en el recorrido $j$\n",
    "* $c_{ij}$: Costo de ir del punto de reciclaje $i$ al punto de reciclaje $j$ del camión\n",
    "* $d_{i}$: Costo de ir del punto de reciclaje $i$ del drone \n",
    "* $cd_{ij}$: Costo de ir del punto de reciclaje $i$ al punto de reciclaje $j$ de cada drone\n",
    "\n",
    "\n",
    "***\n"
   ]
  },
  {
   "attachments": {},
   "cell_type": "markdown",
   "metadata": {},
   "source": [
    "### __METODOLOGÍAS__"
   ]
  },
  {
   "attachments": {},
   "cell_type": "markdown",
   "metadata": {},
   "source": [
    "***\n",
    "\n",
    "METODOLOGÍA USANDO SOLO CAMIONES\n",
    "\n",
    "***"
   ]
  },
  {
   "attachments": {},
   "cell_type": "markdown",
   "metadata": {},
   "source": [
    "### __CASOS DE PRUEBA__\n",
    "\n",
    "***"
   ]
  },
  {
   "cell_type": "code",
   "execution_count": 121,
   "metadata": {},
   "outputs": [
    {
     "data": {
      "text/plain": [
       "5×2 Matrix{Int64}:\n",
       " 0  0\n",
       " 1  2\n",
       " 5  4\n",
       " 3  2\n",
       " 4  4"
      ]
     },
     "execution_count": 121,
     "metadata": {},
     "output_type": "execute_result"
    }
   ],
   "source": [
    "#--------------------CASO 1--------------------#\n",
    "#Se definen los datos del problema\n",
    "n = 5 #cantidad de puntos limpios\n",
    "m = 2 #cantidad de camiones\n",
    "W = [100,100] # capacidad del camión m\n",
    "w = [0, 10, 10, 30, 50] #peso de cada reciclaje\n",
    "#costo de transporte de cada residuo desde cada punto limpio\n",
    "c = [0 0;\n",
    "     1 2;\n",
    "     5 4;\n",
    "     3 2;\n",
    "     4 4]"
   ]
  },
  {
   "cell_type": "code",
   "execution_count": 124,
   "metadata": {},
   "outputs": [
    {
     "data": {
      "text/plain": [
       "5×4 Matrix{Int64}:\n",
       " 0  0  5  0\n",
       " 1  5  1  1\n",
       " 2  3  2  2\n",
       " 3  4  3  3\n",
       " 4  4  5  4"
      ]
     },
     "execution_count": 124,
     "metadata": {},
     "output_type": "execute_result"
    }
   ],
   "source": [
    "#--------------------CASO 2--------------------#\n",
    "#Se definen los datos del problema\n",
    "n = 5 #cantidad de puntos limpios\n",
    "m = 4 #cantidad de camiones\n",
    "W = [100,120,50,200] # capacidad del camión m\n",
    "w = [0, 100, 10, 30, 50] #peso de cada reciclaje\n",
    "#costo de transporte de cada residuo desde cada punto limpio\n",
    "c = [0 0 5 0;1 5 1 1;2 3 2 2;3 4 3 3; 4 4 5 4]"
   ]
  },
  {
   "cell_type": "code",
   "execution_count": 132,
   "metadata": {},
   "outputs": [
    {
     "data": {
      "text/plain": [
       "30×5 Matrix{Int64}:\n",
       " 33  45  20  24  12\n",
       " 39  29   3  26  41\n",
       " 10  22  32  30  35\n",
       "  3  24  11  23  16\n",
       " 48  45  30   9  17\n",
       " 13  17   6   8  15\n",
       "  4  28  23   1  27\n",
       " 36  14  13  25  16\n",
       " 37  50  39  46  44\n",
       " 39  35  10   7  14\n",
       " 40  40  25  46  32\n",
       " 34  26  46  10  31\n",
       " 41  34   4  44  27\n",
       "  ⋮              \n",
       " 13  13  18  34  24\n",
       " 47  48  46  36  45\n",
       "  9  40  37  29  35\n",
       " 24  37  50  14  49\n",
       " 21  35  29   9  45\n",
       " 36  26   7   1  38\n",
       " 24  28  35  16  37\n",
       "  6  29   5  16  11\n",
       " 40  43   2  21  32\n",
       "  8  43   3  44  14\n",
       " 40  26  35  37   4\n",
       " 14  25  35  25  19"
      ]
     },
     "execution_count": 132,
     "metadata": {},
     "output_type": "execute_result"
    }
   ],
   "source": [
    "#--------------------CASO 3--------------------#\n",
    "#Se definen los datos del problema\n",
    "n = 30 #cantidad de puntos limpios\n",
    "m = 5 #cantidad de camiones\n",
    "W = [700,620,500,200,100] # capacidad del camión m\n",
    "w = [0, 100, 10, 30, 50,\n",
    "    20, 10, 30, 50, 100,\n",
    "    10, 10, 30, 50, 90,\n",
    "    15, 10, 20, 50, 80,\n",
    "    10, 10, 30, 50, 70,\n",
    "    10, 10, 30, 50, 60] #peso de cada reciclaje\n",
    "#costo de transporte de cada residuo desde cada punto limpio\n",
    "#Numeros aleatorios de 0 a 50\n",
    "c = [33 45 20 24 12;\n",
    "     39 29 3 26 41;\n",
    "     10 22 32 30 35;\n",
    "     3 24 11 23 16; \n",
    "     48 45 30 9 17;\n",
    "     13 17 6 8 15;\n",
    "     4 28 23 1 27;\n",
    "     36 14 13 25 16;\n",
    "     37 50 39 46 44;\n",
    "     39 35 10 7 14;\n",
    "     40 40 25 46 32;\n",
    "     34 26 46 10 31;\n",
    "     41 34 4 44 27;\n",
    "     42 36 13 7 33;\n",
    "     45 18 3 2 9;\n",
    "     4 48 26 27 1;\n",
    "     44 1 33 26 2;\n",
    "     25 23 21 16 37;\n",
    "     13 13 18 34 24;\n",
    "     47 48 46 36 45;\n",
    "     9 40 37 29 35;\n",
    "     24 37 50 14 49;\n",
    "     21 35 29 9 45;\n",
    "     36 26 7 1 38;\n",
    "     24 28 35 16 37;\n",
    "     6 29 5 16 11;\n",
    "     40 43 2 21 32;\n",
    "     8 43 3 44 14;\n",
    "     40 26 35 37 4;\n",
    "     14 25 35 25 19]\n"
   ]
  },
  {
   "cell_type": "code",
   "execution_count": 133,
   "metadata": {},
   "outputs": [
    {
     "name": "stdout",
     "output_type": "stream",
     "text": [
      "Valor óptimo: 443.0\n",
      "Ruta de cada camión\n",
      "El camión 1 sigue la ruta:\n",
      "\tPunto 1 -> Punto 3 -> Punto 4 -> Punto 9 -> Punto 19 -> Punto 20 -> Punto 21 -> Punto 30 -> Punto 1\n",
      "El camión 2 sigue la ruta:\n",
      "\tPunto 1 -> Punto 8 -> Punto 17 -> Punto 1\n",
      "El camión 3 sigue la ruta:\n",
      "\tPunto 1 -> Punto 2 -> Punto 6 -> Punto 10 -> Punto 11 -> Punto 13 -> Punto 14 -> Punto 15 -> Punto 24 -> Punto 26 -> Punto 27 -> Punto 28 -> Punto 1\n",
      "El camión 4 sigue la ruta:\n",
      "\tPunto 1 -> Punto 5 -> Punto 7 -> Punto 12 -> Punto 18 -> Punto 22 -> Punto 23 -> Punto 25 -> Punto 1\n",
      "El camión 5 sigue la ruta:\n",
      "\tPunto 1 -> Punto 16 -> Punto 29 -> Punto 1\n"
     ]
    }
   ],
   "source": [
    "using JuMP, GLPK\n",
    "\n",
    "#Se define el modelo\n",
    "model = Model(GLPK.Optimizer)\n",
    "\n",
    "#Se definen las variables\n",
    "#binarias\n",
    "#camión j que recoge el reciclaje del punto limpio i\n",
    "@variable(model, x[1:n, 1:m], Bin)\n",
    "\n",
    "#Función objetivo\n",
    "@objective(model, Min, sum(c[i,j]*x[i,j] for i in 1:n, j in 1:m))\n",
    "\n",
    "#Restricciones\n",
    "\n",
    "#1.Un camion puede recoger uno o mas reciclajes\n",
    "@constraint(model, [j in 1:m], sum(x[i,j] for i in 1:n) >= 1)\n",
    "\n",
    "#2.Un reciclaje solo puede ser recogido por uno o mas camiones\n",
    "@constraint(model, [i in 1:n], sum(x[i,j] for j in 1:m) >= 1)\n",
    "\n",
    "#3.La capacidad del camion no puede ser sobrepasada\n",
    "@constraint(model, [j in 1:m], sum(w[i]*x[i,j] for i in 1:n) <= W[j])\n",
    "\n",
    "#4.El camion puede solo pasar una vez por cada punto limpio, excepto el punto de origen\n",
    "@constraint(model, [i in 2:n, j in 1:m], x[i,j] <= sum(x[k,j] for k in 1:n if k != i))\n",
    "\n",
    "#5.El camion puede pasar por el punto de origen cuantas veces sea necesario\n",
    "@constraint(model, [j in 1:m], sum(x[1,j] for i in 1:n) >= 1)\n",
    "\n",
    "#6.El camion si pasa por el punto de origen su capacidad se restablece a W\n",
    "@constraint(model, [j in 1:m], sum(w[i]*x[i,j] for i in 1:n) <= W[j] + W[j]*x[1,j])\n",
    "\n",
    "#7. El camion puede pasar de un punto limpio al punto de origen\n",
    "@constraint(model, [j in 1:m], x[1,j] <= sum(x[i,j] for i in 1:n))\n",
    "\n",
    "#8. El camion tiene que pasar por el punto de origen al finalizar su recorrido\n",
    "@constraint(model, [j in 1:m], sum(x[i,j] for i in 1:n) >= 1)\n",
    "\n",
    "#Se resuelve el modelo\n",
    "optimize!(model)\n",
    "#Se imprime el resultado\n",
    "println(\"Valor óptimo: \", objective_value(model))\n",
    "\n",
    "#Se imprime la ruta de cada camión\n",
    "println(\"Ruta de cada camión\")\n",
    "for j in 1:m\n",
    "    println(\"El camión \", j, \" sigue la ruta:\")\n",
    "    #Formato\n",
    "        #Punto 1 -> Punto 2 -> ... -> Punto n\n",
    "    print(\"\\t\")\n",
    "    for i in 1:n\n",
    "        if value(x[i,j]) == 1\n",
    "            print(\"Punto \", i, \" -> \")\n",
    "        end\n",
    "    end\n",
    "    println(\"Punto 1\")\n",
    "    \n",
    "end\n"
   ]
  },
  {
   "attachments": {},
   "cell_type": "markdown",
   "metadata": {},
   "source": [
    "***\n",
    "\n",
    "METODOLOGÍA USANDO SOLO CAMIONES Y UN DRON\n",
    "\n",
    "***"
   ]
  },
  {
   "attachments": {},
   "cell_type": "markdown",
   "metadata": {},
   "source": [
    "### __CASOS DE PRUEBA__\n",
    "\n",
    "***"
   ]
  },
  {
   "cell_type": "code",
   "execution_count": 199,
   "metadata": {},
   "outputs": [
    {
     "data": {
      "text/plain": [
       "5-element Vector{Int64}:\n",
       " 2\n",
       " 3\n",
       " 4\n",
       " 5\n",
       " 6"
      ]
     },
     "execution_count": 199,
     "metadata": {},
     "output_type": "execute_result"
    }
   ],
   "source": [
    "#--------------------CASO 1--------------------#\n",
    "# Número de camiones, puntos de reciclaje y vuelos del dron\n",
    "m = 3\n",
    "n = 5\n",
    "k = 2\n",
    "\n",
    "# Capacidad de los camiones y peso de los puntos de reciclaje\n",
    "W = [50, 80, 150]\n",
    "w = [20, 30, 10, 15, 25]\n",
    "\n",
    "# Matrices de costos de transporte\n",
    "c = [10 20 30 40 50;\n",
    "     15 25 35 45 55;\n",
    "     20 15 40 50 60]\n",
    "d = [2, 3, 4, 5, 6]"
   ]
  },
  {
   "cell_type": "code",
   "execution_count": 206,
   "metadata": {},
   "outputs": [
    {
     "data": {
      "text/plain": [
       "5-element Vector{Int64}:\n",
       " 2\n",
       " 3\n",
       " 4\n",
       " 5\n",
       " 6"
      ]
     },
     "execution_count": 206,
     "metadata": {},
     "output_type": "execute_result"
    }
   ],
   "source": [
    "#--------------------CASO 2--------------------#\n",
    "# Número de camiones, puntos de reciclaje y vuelos del dron\n",
    "m = 1\n",
    "n = 5\n",
    "k = 1\n",
    "\n",
    "# Capacidad de los camiones y peso de los puntos de reciclaje\n",
    "W = [50]\n",
    "w = [20, 30, 10, 15, 25]\n",
    "\n",
    "# Matrices de costos de transporte\n",
    "c = [10 20 30 40 50]\n",
    "d = [2, 3, 4, 5, 6]"
   ]
  },
  {
   "cell_type": "code",
   "execution_count": 204,
   "metadata": {},
   "outputs": [
    {
     "data": {
      "text/plain": [
       "10-element Vector{Int64}:\n",
       " 2\n",
       " 3\n",
       " 4\n",
       " 1\n",
       " 6\n",
       " 7\n",
       " 8\n",
       " 9\n",
       " 1\n",
       " 1"
      ]
     },
     "execution_count": 204,
     "metadata": {},
     "output_type": "execute_result"
    }
   ],
   "source": [
    "#--------------------CASO 3--------------------#\n",
    "# Número de camiones, puntos de reciclaje y vuelos del dron\n",
    "m = 3\n",
    "n = 10\n",
    "k = 4\n",
    "\n",
    "# Capacidad de los camiones y peso de los puntos de reciclaje\n",
    "W = [50, 80, 150]\n",
    "w = [20, 30, 10, 15, 25, 35, 40, 45, 50, 55]\n",
    "\n",
    "# Matrices de costos de transporte\n",
    "c = [10 20 30 40 50 60 70 80 90 100;\n",
    "     15 25 35 45 55 65 75 85 105 105;\n",
    "     20 15 40 50 60 70 80 90 100 110]\n",
    "d = [2, 3, 4, 1, 6, 7, 8, 9, 1, 1]"
   ]
  },
  {
   "cell_type": "code",
   "execution_count": 207,
   "metadata": {},
   "outputs": [
    {
     "name": "stdout",
     "output_type": "stream",
     "text": [
      "Costo total: 106.0\n",
      "Camión 1:\n",
      "- Punto de reciclaje 1\n",
      "- Punto de reciclaje 2\n",
      "- Punto de reciclaje 3\n",
      "- Punto de reciclaje 4\n",
      "- Centro de reciclaje (origen)\n",
      "Ruta: Any[1, 2, 3, 4, 0]\n",
      "Ruta del dron: Any[5]\n"
     ]
    }
   ],
   "source": [
    "using JuMP, GLPK\n",
    "\n",
    "\n",
    "# Crear el modelo\n",
    "model = Model(with_optimizer(GLPK.Optimizer))\n",
    "\n",
    "# Definir las variables\n",
    "@variable(model, x[1:m, 1:n], Bin) # variables binarias que indican si el camión i visita el punto j\n",
    "@variable(model, y[1:n], Bin) # variables binarias que indican si el dron visita el punto j\n",
    "@variable(model, z[1:m], Bin) # variables binarias que indican si el camión i vuelve al centro de reciclaje\n",
    "@variable(model, u[1:m], Bin) # variables binarias que indican si el camión i o el dron regresan al centro de reciclaje\n",
    "\n",
    "# Definir la función objetivo\n",
    "@objective(model, Min, sum(c[i,j]*x[i,j] for i in 1:m, j in 1:n) + sum(d[j]*y[j] for j in 1:n)) # minimizar el costo total de transporte\n",
    "\n",
    "# Definir las restricciones\n",
    "#1. Cada punto de reciclaje debe ser visitado por exactamente un medio de transporte (camión o dron)\n",
    "@constraint(model, [j in 1:n], sum(x[i,j] for i in 1:m) + y[j] == 1)\n",
    "\n",
    "#2. Los camiones deben respetar su capacidad de carga\n",
    "@constraint(model, [i in 1:m], sum(w[j]*x[i,j] for j in 1:n) - z[i]*W[i] <= W[i])\n",
    "\n",
    "#3. El dron solo puede realizar k vuelos\n",
    "@constraint(model, sum(y[j] for j in 1:n) <= k)\n",
    "\n",
    "#4. Los camiones deben regresar al centro de reciclaje para restablecer su capacidad\n",
    "@constraint(model, [i in 1:m], z[i]*W[i] <= sum(w[j]*x[i,j] for j in 1:n))\n",
    "\n",
    "#5. Todos los medios de transporte deben regresar al centro de reciclaje\n",
    "@constraint(model, sum(u[i] for i in 1:m) == 1)\n",
    "\n",
    "#Resolver el modelo\n",
    "optimize!(model)\n",
    "\n",
    "# Imprimir el resultado\n",
    "println(\"Costo total: \", objective_value(model))\n",
    "\n",
    "# Recorrer cada camión\n",
    "for i in 1:m\n",
    "    println(\"Camión \", i, \":\")\n",
    "    ruta = [] # lista para guardar la ruta del camión i\n",
    "    \n",
    "    # Recorrer cada punto de reciclaje\n",
    "    for j in 1:n\n",
    "        if value(x[i,j]) == 1 # si el camión i visita el punto j\n",
    "            println(\"- Punto de reciclaje \", j)\n",
    "            push!(ruta, j) # añadir el punto j a la ruta del camión i\n",
    "        end\n",
    "    end\n",
    "    \n",
    "    # Si el camión i vuelve al centro de reciclaje, añadirlo a la ruta\n",
    "    if value(z[i]) == 1\n",
    "        println(\"- Centro de reciclaje (origen)\")\n",
    "        push!(ruta, 0) # añadir el centro de reciclaje a la ruta del camión i\n",
    "    end\n",
    "    # Imprimir la ruta completa del camión i\n",
    "    println(\"Ruta: \", ruta)\n",
    "end\n",
    "\n",
    "# Ruta del dron\n",
    "ruta = [] # lista para guardar la ruta del dron\n",
    "for j in 1:n\n",
    "    if value(y[j]) == 1 # si el dron visita el punto j\n",
    "        push!(ruta, j) # añadir el punto j a la ruta del dron\n",
    "    end\n",
    "end\n",
    "\n",
    "# Se imprime la ruta del dron\n",
    "println(\"Ruta del dron: \", ruta)\n",
    "\n",
    "\n",
    "\n",
    "\n"
   ]
  },
  {
   "attachments": {},
   "cell_type": "markdown",
   "metadata": {},
   "source": [
    "***\n",
    "\n",
    "METODOLOGÍA USANDO SOLO CAMIONES Y DRONES\n",
    "\n",
    "***"
   ]
  },
  {
   "attachments": {},
   "cell_type": "markdown",
   "metadata": {},
   "source": [
    "### __CASOS DE PRUEBA__\n",
    "\n",
    "***"
   ]
  },
  {
   "cell_type": "code",
   "execution_count": 96,
   "metadata": {},
   "outputs": [
    {
     "data": {
      "text/plain": [
       "5×4 Matrix{Int64}:\n",
       " 0  0  3  0\n",
       " 1  3  1  1\n",
       " 1  1  1  1\n",
       " 3  3  3  3\n",
       " 4  3  5  3"
      ]
     },
     "execution_count": 96,
     "metadata": {},
     "output_type": "execute_result"
    }
   ],
   "source": [
    "#--------------------CASO 1--------------------#\n",
    "#Se definen los datos del problema\n",
    "n = 5 #cantidad de puntos limpios\n",
    "m = 4 #cantidad de camiones\n",
    "dm = 3 #cantidad de drones\n",
    "k = [2, 3, 5] #cantidad de vuelos que pueden realizar los drones\n",
    "W = [100,120,50,200] # capacidad del camión m\n",
    "w = [0, 100, 10, 30, 50] #peso de cada reciclaje\n",
    "#costo de transporte de cada residuo desde cada punto limpio para los camiones\n",
    "c = [0 0 5 0;1 5 1 1;2 3 2 2;3 4 3 3; 4 4 5 4]\n",
    "#costo de transporte de cada residuo desde cada punto limpio para los drones\n",
    "cd = [0 0 3 0;1 3 1 1;1 1 1 1;3 3 3 3; 4 3 5 3]"
   ]
  },
  {
   "cell_type": "code",
   "execution_count": 98,
   "metadata": {},
   "outputs": [
    {
     "name": "stdout",
     "output_type": "stream",
     "text": [
      "La función objetivo es: 12.999999999999996\n",
      "Ruta del camión 1:\n",
      "\tPunto de reciclaje 1\n",
      "\tPunto de reciclaje 2\n",
      "Ruta del camión 2:\n",
      "\tPunto de reciclaje 1\n",
      "Ruta del camión 3:\n",
      "\tPunto de reciclaje 1\n",
      "Ruta del camión 4:\n",
      "\tPunto de reciclaje 1\n",
      "\tPunto de reciclaje 4\n",
      "Ruta del drone 1:\n",
      "\tPunto de reciclaje 3\n",
      "Ruta del drone 2:\n",
      "\tPunto de reciclaje 5\n",
      "Ruta del drone 3:\n"
     ]
    }
   ],
   "source": [
    "using JuMP, GLPK\n",
    "\n",
    "\n",
    "#Se define el modelo\n",
    "model = Model(GLPK.Optimizer)\n",
    "\n",
    "#Se definen las variables\n",
    "#binarias\n",
    "#camión j que recoge el reciclaje del punto limpio i\n",
    "@variable(model, x[1:n, 1:m], Bin)\n",
    "#drone d que recoge el reciclaje del punto limpio i\n",
    "@variable(model, yd[1:n, 1:dm], Bin)\n",
    "\n",
    "#Función objetivo\n",
    "@objective(model, Min, sum(c[i,j]*x[i,j] for i in 1:n, j in 1:m) + sum(cd[i,d]*yd[i,d] for i in 1:n, d in 1:dm))\n",
    "\n",
    "#Restricciones\n",
    "\n",
    "#1.Un camion puede recoger uno o mas reciclajes\n",
    "@constraint(model, [j in 1:m], sum(x[i,j] for i in 1:n) >= 1)\n",
    "\n",
    "#2.Un reciclaje solo puede ser recogido por uno o mas camiones o drones\n",
    "@constraint(model, [i in 1:n], sum(x[i,j] for j in 1:m) + sum(yd[i,d] for d in 1:dm) >= 1)\n",
    "\n",
    "#3.La capacidad del camion no puede ser sobrepasada\n",
    "@constraint(model, [j in 1:m], sum(w[i]*x[i,j] for i in 1:n) <= W[j])\n",
    "\n",
    "#4.El camion puede solo pasar una vez por cada punto limpio, excepto el punto de origen\n",
    "@constraint(model, [i in 2:n, j in 1:m], x[i,j] <= sum(x[k,j] for k in 1:n if k != i))\n",
    "\n",
    "#5.El camion puede pasar por el punto de origen cuantas veces sea necesario\n",
    "@constraint(model, [j in 1:m], sum(x[1,j] for i in 1:n) >= 1)\n",
    "\n",
    "#6.El camion si pasa por el punto de origen su capacidad se restablece a W\n",
    "@constraint(model, [j in 1:m], sum(w[i]*x[i,j] for i in 1:n) <= W[j] + W[j]*x[1,j])\n",
    "\n",
    "#7. El camion puede pasar de un punto limpio al punto de origen\n",
    "@constraint(model, [j in 1:m], x[1,j] <= sum(x[i,j] for i in 1:n))\n",
    "\n",
    "#8. El camion tiene que pasar por el punto de origen al finalizar su recorrido\n",
    "@constraint(model, [j in 1:m], sum(x[i,j] for i in 1:n) >= 1)\n",
    "\n",
    "#9. Cada drone solo puede visitar una cantidad limitada de puntos de reciclaje\n",
    "@constraint(model, [d in 1:dm], sum(yd[i,d] for i in 1:n) <= k[d])\n",
    "\n",
    "#10. Cada drone solo puede visitar puntos de reciclaje que no hayan sido visitados por otros drones\n",
    "@constraint(model, [d in 1:dm, i in 2:n], yd[i,d] <= sum(1 - yd[j,d] for j in 1:(i-1)))\n",
    "\n",
    "#11. Cada punto de reciclaje solo puede ser visitado por un drone\n",
    "@constraint(model, [i in 1:n], sum(yd[i,d] for d in 1:dm) <= 1)\n",
    "\n",
    "#Se resuelve el modelo\n",
    "optimize!(model)\n",
    "\n",
    "#Se imprime la solución\n",
    "println(\"La función objetivo es: \", objective_value(model))\n",
    "\n",
    "#Se imprime la ruta de cada camion\n",
    "for j in 1:m\n",
    "    println(\"Ruta del camión \", j, \":\")\n",
    "    for i in 1:n\n",
    "        if value(x[i,j]) == 1\n",
    "            println(\"\\tPunto de reciclaje \", i)\n",
    "        end\n",
    "    end\n",
    "end\n",
    "\n",
    "#Se imprime la ruta de cada drone\n",
    "for d in 1:dm\n",
    "    println(\"Ruta del drone \", d, \":\")\n",
    "    for i in 1:n\n",
    "        if value(yd[i,d]) == 1\n",
    "            println(\"\\tPunto de reciclaje \", i)\n",
    "        end\n",
    "    end\n",
    "end\n"
   ]
  },
  {
   "attachments": {},
   "cell_type": "markdown",
   "metadata": {},
   "source": [
    "***"
   ]
  }
 ],
 "metadata": {
  "kernelspec": {
   "display_name": "Julia 1.8.0",
   "language": "julia",
   "name": "julia-1.8"
  },
  "language_info": {
   "file_extension": ".jl",
   "mimetype": "application/julia",
   "name": "julia",
   "version": "1.8.0"
  },
  "orig_nbformat": 4
 },
 "nbformat": 4,
 "nbformat_minor": 2
}
