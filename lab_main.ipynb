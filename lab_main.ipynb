{
 "cells": [
  {
   "cell_type": "markdown",
   "metadata": {},
   "source": [
    "## __TRABAJO DE INVESTIGACIÓN__ \n",
    "***\n",
    "### __Métodos de Optimización 2022-2__\n",
    "#### __Profesor__: Cristián Sepulveda S.\n",
    "#### __Ayudante__: Tomás Lopez A.\n",
    "#### __Integrantes__:  Estefanía Álvarez M. - Bastián Loyola J. - Carlos Retamales A.\n",
    "\n",
    "***"
   ]
  },
  {
   "attachments": {},
   "cell_type": "markdown",
   "metadata": {},
   "source": [
    "#Se definen los datos del problema\n",
    "n = cantidad de puntos limpios\n",
    "m = cantidad de camiones\n",
    "W = capacidad del camión m\n",
    "w = peso de cada reciclaje\n",
    "#costo de transporte de cada residuo desde cada punto limpio\n",
    "#Columnas m: Costo de trasporte de cada camión desde cada punto limpio n\n",
    "c = matrix(nrow = n, ncol = m)   \n"
   ]
  },
  {
   "cell_type": "code",
   "execution_count": 110,
   "metadata": {},
   "outputs": [
    {
     "data": {
      "text/plain": [
       "5-element Vector{Int64}:\n",
       " 0\n",
       " 1\n",
       " 2\n",
       " 3\n",
       " 4"
      ]
     },
     "execution_count": 110,
     "metadata": {},
     "output_type": "execute_result"
    }
   ],
   "source": [
    "#Caso1: Factible\n",
    "n = 5\n",
    "m = 2\n",
    "W = [100]\n",
    "w = [10, 10, 10, 30, 50]\n",
    "c = [0;1;2;3;4]\n"
   ]
  },
  {
   "attachments": {},
   "cell_type": "markdown",
   "metadata": {},
   "source": [
    "Con camiones"
   ]
  },
  {
   "cell_type": "code",
   "execution_count": 114,
   "metadata": {},
   "outputs": [
    {
     "name": "stdout",
     "output_type": "stream",
     "text": [
      "Valor óptimo: 10.0\n",
      "Camión 1\n",
      "Punto 1\n",
      "Punto 3\n",
      "Punto 4\n",
      "Punto 5\n",
      "Camión 2\n",
      "Punto 1\n",
      "Punto 2\n"
     ]
    }
   ],
   "source": [
    "using JuMP, GLPK\n",
    "\n",
    "# Problema del viajero, en este caso se busca el camino optimo para recoger desde un centro de reciclaje\n",
    "# reciclaje de n puntos limpios, con m camiones, cada camión tiene una capacidad W\n",
    "# y cada reciclaje tiene un peso w[i], el costo de transporte de cada reciclaje desde\n",
    "# cada punto limpio es c[i,j]. \n",
    "\n",
    "#Consideraciones\n",
    "\n",
    "# El camion solo puede pasar por un punto limpio una vez, excepto el punto de origen que puede pasar\n",
    "# cuantas veces sea necesario\n",
    "# Si el camion pasa por el punto de origen su capacidad se restablece a W\n",
    "# Se desea saber la ruta de cada camion y el costo total de transporte\n",
    "\n",
    "#Se define el modelo\n",
    "model = Model(GLPK.Optimizer)\n",
    "\n",
    "#Se definen los datos del problema\n",
    "n = 5 #cantidad de puntos limpios\n",
    "m = 2 #cantidad de camiones\n",
    "W = [100,120] # capacidad del camión m\n",
    "w = [0, 10, 10, 30, 50] #peso de cada reciclaje\n",
    "#costo de transporte de cada residuo desde cada punto limpio\n",
    "c = [0 0 ;1 1;2 2;3 3;4 4]\n",
    "\n",
    "#Se definen las variables\n",
    "#binarias\n",
    "#camión j que recoge el reciclaje del punto limpio i\n",
    "@variable(model, x[1:n, 1:m], Bin)\n",
    "\n",
    "\n",
    "#Función objetivo\n",
    "@objective(model, Min, sum(c[i,j]*x[i,j] for i in 1:n, j in 1:m))\n",
    "\n",
    "#Restricciones\n",
    "\n",
    "#1.Un camion puede recoger uno o mas residuos\n",
    "@constraint(model, [j in 1:m], sum(x[i,j] for i in 1:n) >= 1)\n",
    "\n",
    "#2.Un residuo solo puede ser recogido por uno o mas camiones\n",
    "@constraint(model, [i in 1:n], sum(x[i,j] for j in 1:m) >= 1)\n",
    "\n",
    "#3.La capacidad del camion no puede ser sobrepasada\n",
    "@constraint(model, [j in 1:m], sum(w[i]*x[i,j] for i in 1:n) <= W[j])\n",
    "\n",
    "#4.El camion puede solo pasar una vez por cada punto limpio, excepto el punto de origen\n",
    "@constraint(model, [i in 2:n, j in 1:m], x[i,j] <= sum(x[k,j] for k in 1:n if k != i))\n",
    "\n",
    "#5.El camion puede pasar por el punto de origen cuantas veces sea necesario\n",
    "@constraint(model, [j in 1:m], sum(x[1,j] for i in 1:n) >= 1)\n",
    "\n",
    "#6.El camion si pasa por el punto de origen su capacidad se restablece a W\n",
    "@constraint(model, [j in 1:m], sum(w[i]*x[i,j] for i in 1:n) <= W[j] + W[j]*x[1,j])\n",
    "\n",
    "#Se resuelve el modelo\n",
    "optimize!(model)\n",
    "\n",
    "#Se imprime el resultado\n",
    "println(\"Valor óptimo: \", objective_value(model))\n",
    "\n",
    "#Se imprime la ruta de cada camión\n",
    "for j in 1:m\n",
    "    println(\"Camión \", j)\n",
    "    for i in 1:n\n",
    "        if value(x[i,j]) == 1\n",
    "            println(\"Punto \", i)\n",
    "        end\n",
    "    end\n",
    "end\n"
   ]
  },
  {
   "cell_type": "code",
   "execution_count": null,
   "metadata": {},
   "outputs": [],
   "source": [
    "using JuMP, GLPK\n",
    "\n",
    "# Problema del viajero, en este caso se busca el camino optimo para recoger desde un centro de reciclaje\n",
    "# reciclaje de n puntos limpios, con m camiones, cada camión tiene una capacidad W\n",
    "# y cada reciclaje tiene un peso w[i], el costo de transporte de cada reciclaje desde\n",
    "# cada punto limpio es c[i,j]. \n",
    "\n",
    "#Consideraciones\n",
    "\n",
    "# El camion solo puede pasar por un punto limpio una vez, excepto el punto de origen que puede pasar\n",
    "# cuantas veces sea necesario\n",
    "# Si el camion pasa por el punto de origen su capacidad se restablece a W\n",
    "# Se desea saber la ruta de cada camion y el costo total de transporte\n",
    "\n",
    "#Se define el modelo\n",
    "model = Model(GLPK.Optimizer)\n",
    "\n",
    "#Se definen los datos del problema\n",
    "n = 5 #cantidad de puntos limpios\n",
    "m = 1 #cantidad de camiones\n",
    "W = [100] # capacidad del camión m\n",
    "w = [0, 10, 10, 30, 50] #peso de cada reciclaje\n",
    "#costo de transporte de cada residuo desde cada punto limpio\n",
    "c = [0;1;2;3;4]\n",
    "\n",
    "#Se definen las variables\n",
    "#binarias\n",
    "#camión j que recoge el reciclaje del punto limpio i\n",
    "@variable(model, x[1:n, 1:m], Bin)\n",
    "\n",
    "\n",
    "#Función objetivo\n",
    "@objective(model, Min, sum(c[i,j]*x[i,j] for i in 1:n, j in 1:m))\n",
    "\n",
    "#Restricciones\n",
    "\n",
    "#1.Un camion puede recoger uno o mas residuos\n",
    "@constraint(model, [j in 1:m], sum(x[i,j] for i in 1:n) >= 1)\n",
    "\n",
    "#2.Un residuo solo puede ser recogido por un camion\n",
    "@constraint(model, [i in 1:n], sum(x[i,j] for j in 1:m) == 1)\n",
    "\n",
    "#3.La capacidad del camion no puede ser sobrepasada\n",
    "@constraint(model, [j in 1:m], sum(w[i]*x[i,j] for i in 1:n) <= W[j])\n",
    "\n",
    "#4.El camion puede solo pasar una vez por cada punto limpio, excepto el punto de origen\n",
    "@constraint(model, [i in 2:n, j in 1:m], x[i,j] <= sum(x[k,j] for k in 1:n if k != i))\n",
    "\n",
    "#5.El camion puede pasar por el punto de origen cuantas veces sea necesario\n",
    "@constraint(model, [j in 1:m], sum(x[1,j] for i in 1:n) >= 1)\n",
    "\n",
    "#6.El camion si pasa por el punto de origen su capacidad se restablece a W\n",
    "@constraint(model, [j in 1:m], sum(w[i]*x[i,j] for i in 1:n) <= W[j] + W[j]*x[1,j])\n",
    "\n",
    "\n",
    "\n",
    "\n",
    "\n",
    "\n",
    "\n",
    "\n",
    "#Se resuelve el modelo\n",
    "optimize!(model)\n",
    "\n",
    "#Se imprime el resultado\n",
    "println(\"Valor óptimo: \", objective_value(model))\n",
    "\n",
    "#Se imprime la ruta de cada camión\n",
    "for j in 1:m\n",
    "    println(\"Camión \", j)\n",
    "    for i in 1:n\n",
    "        if value(x[i,j]) == 1\n",
    "            println(\"Punto \", i)\n",
    "        end\n",
    "    end\n",
    "end\n"
   ]
  },
  {
   "attachments": {},
   "cell_type": "markdown",
   "metadata": {},
   "source": [
    "Con Camiones y Drones"
   ]
  },
  {
   "cell_type": "code",
   "execution_count": 5,
   "metadata": {},
   "outputs": [
    {
     "name": "stdout",
     "output_type": "stream",
     "text": [
      "Solución óptima: 0.0\n"
     ]
    }
   ],
   "source": [
    "\n"
   ]
  },
  {
   "cell_type": "markdown",
   "metadata": {},
   "source": []
  }
 ],
 "metadata": {
  "kernelspec": {
   "display_name": "Julia 1.8.0",
   "language": "julia",
   "name": "julia-1.8"
  },
  "language_info": {
   "file_extension": ".jl",
   "mimetype": "application/julia",
   "name": "julia",
   "version": "1.8.0"
  },
  "orig_nbformat": 4
 },
 "nbformat": 4,
 "nbformat_minor": 2
}
