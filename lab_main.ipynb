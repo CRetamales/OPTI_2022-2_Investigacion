{
 "cells": [
  {
   "cell_type": "markdown",
   "metadata": {},
   "source": [
    "## __TRABAJO DE INVESTIGACIÓN__ \n",
    "***\n",
    "### __Métodos de Optimización 2022-2__\n",
    "#### __Profesor__: Cristián Sepulveda S.\n",
    "#### __Ayudante__: Tomás Lopez A.\n",
    "#### __Integrantes__:  Estefanía Álvarez M. - Bastián Loyola J. - Carlos Retamales A.\n",
    "\n",
    "***"
   ]
  },
  {
   "attachments": {},
   "cell_type": "markdown",
   "metadata": {},
   "source": [
    "#Se definen los datos del problema\n"
   ]
  },
  {
   "cell_type": "code",
   "execution_count": 115,
   "metadata": {},
   "outputs": [
    {
     "data": {
      "text/plain": [
       "5×2 Matrix{Int64}:\n",
       " 0  0\n",
       " 1  1\n",
       " 2  2\n",
       " 3  3\n",
       " 4  4"
      ]
     },
     "execution_count": 115,
     "metadata": {},
     "output_type": "execute_result"
    }
   ],
   "source": [
    "#Caso 1\n",
    "#Se definen los datos del problema\n",
    "n = 5 #cantidad de puntos limpios\n",
    "m = 2 #cantidad de camiones\n",
    "W = [100,120] # capacidad del camión m\n",
    "w = [0, 10, 10, 30, 50] #peso de cada reciclaje\n",
    "#costo de transporte de cada residuo desde cada punto limpio\n",
    "c = [0 0 ;1 1;2 2;3 3;4 4]"
   ]
  },
  {
   "cell_type": "code",
   "execution_count": 134,
   "metadata": {},
   "outputs": [
    {
     "data": {
      "text/plain": [
       "5×4 Matrix{Int64}:\n",
       " 0  0  5  0\n",
       " 1  5  1  1\n",
       " 2  3  2  2\n",
       " 3  4  3  3\n",
       " 4  4  5  4"
      ]
     },
     "execution_count": 134,
     "metadata": {},
     "output_type": "execute_result"
    }
   ],
   "source": [
    "#Caso 2\n",
    "#Se definen los datos del problema\n",
    "n = 5 #cantidad de puntos limpios\n",
    "m = 4 #cantidad de camiones\n",
    "W = [100,120,50,200] # capacidad del camión m\n",
    "w = [0, 100, 10, 30, 50] #peso de cada reciclaje\n",
    "#costo de transporte de cada residuo desde cada punto limpio\n",
    "c = [0 0 5 0;1 5 1 1;2 3 2 2;3 4 3 3; 4 4 5 4]"
   ]
  },
  {
   "attachments": {},
   "cell_type": "markdown",
   "metadata": {},
   "source": [
    "Con camiones"
   ]
  },
  {
   "cell_type": "code",
   "execution_count": 135,
   "metadata": {},
   "outputs": [
    {
     "name": "stdout",
     "output_type": "stream",
     "text": [
      "Valor óptimo: 15.0\n",
      "Ruta de cada camión\n",
      "El camión 1 sigue la ruta:\n",
      "\tPunto 1 -> Punto 2 -> Punto 1\n",
      "El camión 2 sigue la ruta:\n",
      "\tPunto 1 -> Punto 5 -> Punto 1\n",
      "El camión 3 sigue la ruta:\n",
      "\tPunto 1 -> Punto 3 -> Punto 1\n",
      "El camión 4 sigue la ruta:\n",
      "\tPunto 1 -> Punto 4 -> Punto 1\n"
     ]
    }
   ],
   "source": [
    "using JuMP, GLPK\n",
    "\n",
    "# Problema del viajero, en este caso se busca el camino optimo para recoger desde un centro de reciclaje\n",
    "# reciclaje de n puntos limpios, con m camiones, cada camión tiene una capacidad W\n",
    "# y cada reciclaje tiene un peso w[i], el costo de transporte de cada reciclaje desde\n",
    "# cada punto limpio es c[i,j]. \n",
    "\n",
    "#Consideraciones\n",
    "\n",
    "# El camion solo puede pasar por un punto limpio una vez, excepto el punto de origen que puede pasar\n",
    "# cuantas veces sea necesario\n",
    "# Si el camion pasa por el punto de origen su capacidad se restablece a W\n",
    "# Se desea saber la ruta de cada camion y el costo total de transporte\n",
    "\n",
    "#Se define el modelo\n",
    "model = Model(GLPK.Optimizer)\n",
    "\n",
    "\n",
    "\n",
    "#Se definen las variables\n",
    "#binarias\n",
    "#camión j que recoge el reciclaje del punto limpio i\n",
    "@variable(model, x[1:n, 1:m], Bin)\n",
    "\n",
    "\n",
    "#Función objetivo\n",
    "@objective(model, Min, sum(c[i,j]*x[i,j] for i in 1:n, j in 1:m))\n",
    "\n",
    "#Restricciones\n",
    "\n",
    "#1.Un camion puede recoger uno o mas reciclajes\n",
    "@constraint(model, [j in 1:m], sum(x[i,j] for i in 1:n) >= 1)\n",
    "\n",
    "#2.Un reciclaje solo puede ser recogido por uno o mas camiones\n",
    "@constraint(model, [i in 1:n], sum(x[i,j] for j in 1:m) >= 1)\n",
    "\n",
    "#3.La capacidad del camion no puede ser sobrepasada\n",
    "@constraint(model, [j in 1:m], sum(w[i]*x[i,j] for i in 1:n) <= W[j])\n",
    "\n",
    "#4.El camion puede solo pasar una vez por cada punto limpio, excepto el punto de origen\n",
    "@constraint(model, [i in 2:n, j in 1:m], x[i,j] <= sum(x[k,j] for k in 1:n if k != i))\n",
    "\n",
    "#5.El camion puede pasar por el punto de origen cuantas veces sea necesario\n",
    "@constraint(model, [j in 1:m], sum(x[1,j] for i in 1:n) >= 1)\n",
    "\n",
    "#6.El camion si pasa por el punto de origen su capacidad se restablece a W\n",
    "@constraint(model, [j in 1:m], sum(w[i]*x[i,j] for i in 1:n) <= W[j] + W[j]*x[1,j])\n",
    "\n",
    "#7. El camion puede pasar de un punto limpio al punto de origen\n",
    "@constraint(model, [j in 1:m], x[1,j] <= sum(x[i,j] for i in 1:n))\n",
    "\n",
    "#8. El camion tiene que pasar por el punto de origen al finalizar su recorrido\n",
    "@constraint(model, [j in 1:m], sum(x[i,j] for i in 1:n) >= 1)\n",
    "\n",
    "#Se resuelve el modelo\n",
    "optimize!(model)\n",
    "#Se imprime el resultado\n",
    "println(\"Valor óptimo: \", objective_value(model))\n",
    "\n",
    "#Se imprime la ruta de cada camión\n",
    "println(\"Ruta de cada camión\")\n",
    "for j in 1:m\n",
    "    println(\"El camión \", j, \" sigue la ruta:\")\n",
    "    #Formato\n",
    "        #Punto 1 -> Punto 2 -> ... -> Punto n\n",
    "    print(\"\\t\")\n",
    "    for i in 1:n\n",
    "        if value(x[i,j]) == 1\n",
    "            print(\"Punto \", i, \" -> \")\n",
    "        end\n",
    "    end\n",
    "    println(\"Punto 1\")\n",
    "    \n",
    "end\n"
   ]
  },
  {
   "cell_type": "code",
   "execution_count": null,
   "metadata": {},
   "outputs": [],
   "source": []
  },
  {
   "attachments": {},
   "cell_type": "markdown",
   "metadata": {},
   "source": [
    "Con Camiones y un drone"
   ]
  },
  {
   "cell_type": "markdown",
   "metadata": {},
   "source": []
  },
  {
   "cell_type": "code",
   "execution_count": 168,
   "metadata": {},
   "outputs": [
    {
     "name": "stdout",
     "output_type": "stream",
     "text": [
      "Costo total: 100.99999999999999\n",
      "Camión 1:\n",
      "- Punto de reciclaje 1\n",
      "- Punto de reciclaje 3\n",
      "- Punto de reciclaje 4\n",
      "Ruta: Any[1, 3, 4]\n",
      "Camión 2:\n",
      "Ruta: Any[]\n",
      "Camión 3:\n",
      "- Punto de reciclaje 2\n",
      "Ruta: Any[2]\n",
      "Dron: Punto de reciclaje 5\n"
     ]
    }
   ],
   "source": [
    "# Número de camiones, puntos de reciclaje y vuelos del dron\n",
    "m = 3\n",
    "n = 5\n",
    "k = 2\n",
    "\n",
    "# Capacidad de los camiones y peso de los puntos de reciclaje\n",
    "W = [50, 80, 150]\n",
    "w = [20, 30, 10, 15, 25]\n",
    "\n",
    "# Matrices de costos de transporte\n",
    "c = [10 20 30 40 50;\n",
    "     15 25 35 45 55;\n",
    "     20 15 40 50 60]\n",
    "d = [2, 3, 4, 5, 6]\n",
    "\n",
    "# Crear el modelo\n",
    "model = Model(with_optimizer(GLPK.Optimizer))\n",
    "\n",
    "# Definir las variables\n",
    "@variable(model, x[1:m, 1:n], Bin) # variables binarias que indican si el camión i visita el punto j\n",
    "@variable(model, y[1:n], Bin) # variables binarias que indican si el dron visita el punto j\n",
    "@variable(model, z[1:m], Bin) # variables binarias que indican si el camión i vuelve al centro de reciclaje\n",
    "@variable(model, u[1:m], Bin) # variables binarias que indican si el camión i o el dron regresan al centro de reciclaje\n",
    "\n",
    "# Definir la función objetivo\n",
    "@objective(model, Min, sum(c[i,j]*x[i,j] for i in 1:m, j in 1:n) + sum(d[j]*y[j] for j in 1:n)) # minimizar el costo total de transporte\n",
    "\n",
    "# Definir las restricciones\n",
    "# Cada punto de reciclaje debe ser visitado por exactamente un medio de transporte (camión o dron)\n",
    "@constraint(model, [j in 1:n], sum(x[i,j] for i in 1:m) + y[j] == 1)\n",
    "\n",
    "# Los camiones deben respetar su capacidad de carga\n",
    "@constraint(model, [i in 1:m], sum(w[j]*x[i,j] for j in 1:n) - z[i]*W[i] <= W[i])\n",
    "\n",
    "# El dron solo puede realizar k vuelos\n",
    "@constraint(model, sum(y[j] for j in 1:n) <= k)\n",
    "\n",
    "# Los camiones deben regresar al centro de reciclaje para restablecer su capacidad\n",
    "@constraint(model, [i in 1:m], z[i]*W[i] <= sum(w[j]*x[i,j] for j in 1:n))\n",
    "\n",
    "# Todos los medios de transporte deben regresar al centro de reciclaje\n",
    "@constraint(model, sum(u[i] for i in 1:m) + sum(y[j] for j in 1:n) == 1)\n",
    "\n",
    "# Resolver el modelo\n",
    "optimize!(model)\n",
    "\n",
    "# Imprimir el resultado\n",
    "println(\"Costo total: \", objective_value(model))\n",
    "\n",
    "# Recorrer cada camión\n",
    "for i in 1:m\n",
    "    println(\"Camión \", i, \":\")\n",
    "    ruta = [] # lista para guardar la ruta del camión i\n",
    "    \n",
    "    # Recorrer cada punto de reciclaje\n",
    "    for j in 1:n\n",
    "        if value(x[i,j]) == 1 # si el camión i visita el punto j\n",
    "            println(\"- Punto de reciclaje \", j)\n",
    "            push!(ruta, j) # añadir el punto j a la ruta del camión i\n",
    "        end\n",
    "    end\n",
    "    \n",
    "    # Si el camión i vuelve al centro de reciclaje, añadirlo a la ruta\n",
    "    if value(z[i]) == 1\n",
    "        println(\"- Centro de reciclaje (origen)\")\n",
    "        push!(ruta, 0) # añadir el centro de reciclaje a la ruta del camión i\n",
    "    end\n",
    "    # Imprimir la ruta completa del camión i\n",
    "    println(\"Ruta: \", ruta)\n",
    "end\n",
    "\n",
    "# Si el dron regresa al centro de reciclaje, imprimirlo\n",
    "if value(u[1]) == 1\n",
    "    println(\"Dron: Centro de reciclaje (origen)\")\n",
    "\n",
    "# Si el dron visita algún punto de reciclaje, imprimirlo\n",
    "else\n",
    "    for j in 1:n\n",
    "        if value(y[j]) == 1\n",
    "            println(\"Dron: Punto de reciclaje \", j)\n",
    "        end\n",
    "    end\n",
    "end\n",
    "\n",
    "\n"
   ]
  },
  {
   "attachments": {},
   "cell_type": "markdown",
   "metadata": {},
   "source": [
    "Camiones y drones"
   ]
  },
  {
   "cell_type": "code",
   "execution_count": null,
   "metadata": {},
   "outputs": [],
   "source": []
  }
 ],
 "metadata": {
  "kernelspec": {
   "display_name": "Julia 1.8.0",
   "language": "julia",
   "name": "julia-1.8"
  },
  "language_info": {
   "file_extension": ".jl",
   "mimetype": "application/julia",
   "name": "julia",
   "version": "1.8.0"
  },
  "orig_nbformat": 4
 },
 "nbformat": 4,
 "nbformat_minor": 2
}
